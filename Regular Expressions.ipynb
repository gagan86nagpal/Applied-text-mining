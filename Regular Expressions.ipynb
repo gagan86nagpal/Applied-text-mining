{
 "cells": [
  {
   "cell_type": "code",
   "execution_count": 1,
   "metadata": {
    "collapsed": true
   },
   "outputs": [],
   "source": [
    "import re"
   ]
  },
  {
   "cell_type": "code",
   "execution_count": 8,
   "metadata": {
    "collapsed": true
   },
   "outputs": [],
   "source": [
    "text = 'ohho hunger man , woman , oooo ohohohoho    ooooo'"
   ]
  },
  {
   "cell_type": "code",
   "execution_count": 23,
   "metadata": {},
   "outputs": [
    {
     "data": {
      "text/plain": [
       "['wo', ' o', 'oo', ' o', ' o', 'oo', 'oo']"
      ]
     },
     "execution_count": 23,
     "metadata": {},
     "output_type": "execute_result"
    }
   ],
   "source": [
    "re.findall(r'[^hunger]o',text)"
   ]
  },
  {
   "cell_type": "code",
   "execution_count": 24,
   "metadata": {
    "collapsed": true
   },
   "outputs": [],
   "source": [
    "mails = 'gagannagpal68@gmail.com is the mail id of gagan nagpal , he also has another mail id which is nagpalgagan68@gmail.com'"
   ]
  },
  {
   "cell_type": "code",
   "execution_count": 61,
   "metadata": {},
   "outputs": [
    {
     "data": {
      "text/plain": [
       "[('gagannagpal68', 'gmail'), ('nagpalgagan68', 'gmail')]"
      ]
     },
     "execution_count": 61,
     "metadata": {},
     "output_type": "execute_result"
    }
   ],
   "source": [
    "re.findall(r'(\\w+)@(\\w+).com',mails)"
   ]
  },
  {
   "cell_type": "code",
   "execution_count": 81,
   "metadata": {
    "collapsed": true
   },
   "outputs": [],
   "source": [
    "dates='''\n",
    "Athe Fourteenth of March, 2016 March the Fourteenth, 2016\n",
    "B 14th Sep 2016 September 14th, 2016\n",
    "C 14 September 2016 March 14, 2016\n",
    "D 14/3/2016 3/14/2016\n",
    "E 14/3/16 3/14/16\n",
    "F 14/03/16 03/14/16\n",
    "'''"
   ]
  },
  {
   "cell_type": "code",
   "execution_count": 86,
   "metadata": {},
   "outputs": [
    {
     "data": {
      "text/plain": [
       "['14/3/2016', '3/14/2016', '14/3/16', '3/14/16', '14/03/16', '03/14/16']"
      ]
     },
     "execution_count": 86,
     "metadata": {},
     "output_type": "execute_result"
    }
   ],
   "source": [
    "re.findall(r'\\d{1,2}/\\d{1,2}/\\d{2,4}',dates)"
   ]
  },
  {
   "cell_type": "code",
   "execution_count": 87,
   "metadata": {},
   "outputs": [
    {
     "data": {
      "text/plain": [
       "['2016 March the', '14th Sep 2016', '14 September 2016']"
      ]
     },
     "execution_count": 87,
     "metadata": {},
     "output_type": "execute_result"
    }
   ],
   "source": [
    "re.findall(r'\\w+ (?:Jan|Feb|Mar|April|May|Jun|July|Aug|Sep|Oct|Nov|Dec)[a-z]* \\w+',dates)"
   ]
  },
  {
   "cell_type": "code",
   "execution_count": 103,
   "metadata": {},
   "outputs": [
    {
     "data": {
      "text/plain": [
       "['', '', '', '14/3/2016 ', '14/3/16 ', '14/03/16 ']"
      ]
     },
     "execution_count": 103,
     "metadata": {},
     "output_type": "execute_result"
    }
   ],
   "source": [
    "re.findall(r'(\\d{1,2}/\\d{1,2}/\\d{2,4} )| (?:\\w+ (?:Jan|Feb|Mar|April|May|Jun|July|Aug|Sep|Oct|Nov|Dec)[a-z]* \\w+)',dates)"
   ]
  },
  {
   "cell_type": "code",
   "execution_count": null,
   "metadata": {
    "collapsed": true
   },
   "outputs": [],
   "source": []
  }
 ],
 "metadata": {
  "kernelspec": {
   "display_name": "Python 3",
   "language": "python",
   "name": "python3"
  },
  "language_info": {
   "codemirror_mode": {
    "name": "ipython",
    "version": 3
   },
   "file_extension": ".py",
   "mimetype": "text/x-python",
   "name": "python",
   "nbconvert_exporter": "python",
   "pygments_lexer": "ipython3",
   "version": "3.6.1"
  }
 },
 "nbformat": 4,
 "nbformat_minor": 2
}
