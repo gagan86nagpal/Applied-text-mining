{
 "cells": [
  {
   "cell_type": "code",
   "execution_count": 1,
   "metadata": {
    "collapsed": true
   },
   "outputs": [],
   "source": [
    "text ='agouguhsdougoi'"
   ]
  },
  {
   "cell_type": "code",
   "execution_count": 4,
   "metadata": {},
   "outputs": [],
   "source": [
    "a=text.split('g')"
   ]
  },
  {
   "cell_type": "code",
   "execution_count": 5,
   "metadata": {},
   "outputs": [
    {
     "data": {
      "text/plain": [
       "['a', 'ou', 'uhsdou', 'oi']"
      ]
     },
     "execution_count": 5,
     "metadata": {},
     "output_type": "execute_result"
    }
   ],
   "source": [
    "a"
   ]
  },
  {
   "cell_type": "code",
   "execution_count": 6,
   "metadata": {},
   "outputs": [
    {
     "data": {
      "text/plain": [
       "'agouguhsdougoi'"
      ]
     },
     "execution_count": 6,
     "metadata": {},
     "output_type": "execute_result"
    }
   ],
   "source": [
    "'g'.join(a)"
   ]
  },
  {
   "cell_type": "code",
   "execution_count": 7,
   "metadata": {},
   "outputs": [
    {
     "data": {
      "text/plain": [
       "['agouguhsdougoi']"
      ]
     },
     "execution_count": 7,
     "metadata": {},
     "output_type": "execute_result"
    }
   ],
   "source": [
    "text.splitlines()"
   ]
  },
  {
   "cell_type": "code",
   "execution_count": 12,
   "metadata": {},
   "outputs": [
    {
     "data": {
      "text/plain": [
       "['a', 'g', 'o', 'u', 'g', 'u', 'h', 's', 'd', 'o', 'u', 'g', 'o', 'i']"
      ]
     },
     "execution_count": 12,
     "metadata": {},
     "output_type": "execute_result"
    }
   ],
   "source": [
    "list(text)"
   ]
  },
  {
   "cell_type": "code",
   "execution_count": 13,
   "metadata": {},
   "outputs": [
    {
     "data": {
      "text/plain": [
       "['a', 'g', 'o', 'u', 'g', 'u', 'h', 's', 'd', 'o', 'u', 'g', 'o', 'i']"
      ]
     },
     "execution_count": 13,
     "metadata": {},
     "output_type": "execute_result"
    }
   ],
   "source": [
    "[w for w in text]"
   ]
  },
  {
   "cell_type": "code",
   "execution_count": 30,
   "metadata": {
    "collapsed": true
   },
   "outputs": [],
   "source": [
    "text='''sdgdfgdf \\tdfgfdg\n",
    "dsgdsgsgf\n",
    "sdf'''"
   ]
  },
  {
   "cell_type": "code",
   "execution_count": 31,
   "metadata": {},
   "outputs": [
    {
     "name": "stdout",
     "output_type": "stream",
     "text": [
      "sdgdfgdf \tdfgfdg\n",
      "dsgdsgsgf\n",
      "sdf\n"
     ]
    }
   ],
   "source": [
    "print(text)"
   ]
  },
  {
   "cell_type": "code",
   "execution_count": 34,
   "metadata": {},
   "outputs": [
    {
     "data": {
      "text/plain": [
       "['sdgdfgdf \\tdfgfdg', 'dsgdsgsgf', 'sdf']"
      ]
     },
     "execution_count": 34,
     "metadata": {},
     "output_type": "execute_result"
    }
   ],
   "source": [
    "text.split('\\n')"
   ]
  },
  {
   "cell_type": "code",
   "execution_count": 38,
   "metadata": {
    "collapsed": true
   },
   "outputs": [],
   "source": [
    "text  ='''gagan\n",
    "is so\n",
    "cool that\n",
    "he never gets \n",
    "a match on\n",
    "tinder'''"
   ]
  },
  {
   "cell_type": "code",
   "execution_count": 41,
   "metadata": {},
   "outputs": [],
   "source": [
    "a=text.splitlines()"
   ]
  },
  {
   "cell_type": "code",
   "execution_count": 76,
   "metadata": {},
   "outputs": [],
   "source": [
    "f = open('something.txt','r')"
   ]
  },
  {
   "cell_type": "code",
   "execution_count": 70,
   "metadata": {},
   "outputs": [
    {
     "data": {
      "text/plain": [
       "['[Intro: Justin Bieber]\\n',\n",
       " \"Comin' over in my direction\\n\",\n",
       " \"So thankful for that, it's such a blessin', yeah\\n\",\n",
       " 'Turn every situation into heaven, yeah\\n',\n",
       " 'Oh-oh, you are\\n',\n",
       " 'My sunrise on the darkest day\\n',\n",
       " \"Got me feelin' some kind of way\\n\",\n",
       " 'Make me wanna savor every moment slowly, slowly\\n',\n",
       " 'You fit me tailor-made, love how you put it on\\n',\n",
       " 'Got the only key, know how to turn it on\\n',\n",
       " 'The way you nibble on my ear, the only words I wanna hear\\n',\n",
       " 'Baby, take it slow so we can last long\\n',\n",
       " '\\n',\n",
       " '[Verso 1: Luis Fonsi & Daddy Yankee]\\n',\n",
       " '¡Oh!\\n',\n",
       " 'Tú, tú eres el imán y yo soy el metal\\n',\n",
       " 'Me voy acercando y voy armando el plan\\n',\n",
       " 'Sólo con pensarlo se acelera el pulso (oh yeah)\\n',\n",
       " 'Ya, ya me está gustando más de lo normal\\n',\n",
       " 'Todos mis sentidos van pidiendo más\\n',\n",
       " 'Esto hay que tomarlo sin ningún apuro\\n',\n",
       " '\\n',\n",
       " '[Coro: Justin Bieber & Luis Fonsi / Daddy Yankee]\\n',\n",
       " 'Despacito\\n',\n",
       " 'Quiero respirar tu cuello despacito\\n',\n",
       " 'Deja que te diga cosas al oído\\n',\n",
       " 'Para que te acuerdes si no estás conmigo\\n',\n",
       " 'Despacito\\n',\n",
       " 'Quiero desnudarte a besos despacito\\n',\n",
       " 'Firmo en las paredes de tu laberinto\\n',\n",
       " 'Y hacer de tu cuerpo todo un manuscrito\\n',\n",
       " '(Sube, sube, sube\\n',\n",
       " 'Sube, sube)\\n',\n",
       " ' \\n',\n",
       " '\\n',\n",
       " '[Puente: Luis Fonsi & Daddy Yankee]\\n',\n",
       " 'Quiero ver bailar tu pelo, quiero ser tu ritmo (woah, woah)\\n',\n",
       " 'Que le enseñes a mi boca (woah, woah)\\n',\n",
       " 'Tus lugares favoritos (favorito, favorito, baby)\\n',\n",
       " 'Déjame sobrepasar tus zonas de peligro (woah, woah)\\n',\n",
       " 'Hasta provocar tus gritos (woah, woah)\\n',\n",
       " 'Y que olvides tu apellido\\n',\n",
       " '\\n',\n",
       " '[Verso 2: Daddy Yankee]\\n',\n",
       " 'Si te pido un beso, ven, dámelo, yo sé que estás pensándolo\\n',\n",
       " 'Llevo tiempo intentándolo, mami, esto es dando y dándolo\\n',\n",
       " 'Sabes que tu corazón conmigo te hace bang-bang\\n',\n",
       " 'Sabes que esa beba está buscando de mi bang-bang\\n',\n",
       " 'Ven, prueba de mi boca para ver cómo te sabe\\n',\n",
       " 'Quiero, quiero, quiero ver cuánto amor a ti te cabe\\n',\n",
       " 'Yo no tengo prisa, yo me quiero dar el viaje\\n',\n",
       " 'Empecemos lento, después salvaje\\n',\n",
       " '\\n',\n",
       " '[Puente: Daddy Yankee & Justin Bieber / Daddy Yankee]\\n',\n",
       " 'Pasito a pasito, suave suavecito\\n',\n",
       " 'Nos vamos pegando, poquito a poquito\\n',\n",
       " 'Cuando tú me besas con esa destreza\\n',\n",
       " 'Veo que eres malicia con delicadeza\\n',\n",
       " 'Pasito a pasito, suave suavecito\\n',\n",
       " 'Nos vamos pegando, poquito a poquito\\n',\n",
       " 'Y es que esa belleza es un rompecabezas\\n',\n",
       " \"Pero pa' montarlo aquí tengo la pieza\\n\",\n",
       " '¡Oye!\\n',\n",
       " ' \\n',\n",
       " '\\n',\n",
       " '[Coro: Justin Bieber & Luis Fonsi / Daddy Yankee]\\n',\n",
       " 'Despacito\\n',\n",
       " 'Quiero respirar tu cuello despacito\\n',\n",
       " 'Deja que te diga cosas al oído\\n',\n",
       " 'Para que te acuerdes si no estás conmigo\\n',\n",
       " 'Despacito\\n',\n",
       " 'Quiero desnudarte a besos despacito\\n',\n",
       " 'Firmo en las paredes de tu laberinto\\n',\n",
       " 'Y hacer de tu cuerpo todo un manuscrito\\n',\n",
       " '(Sube, sube, sube\\n',\n",
       " 'Sube, sube)\\n',\n",
       " '\\n',\n",
       " '[Puente: Luis Fonsi & Daddy Yankee]\\n',\n",
       " 'Quiero ver bailar tu pelo, quiero ser tu ritmo (woah, woah)\\n',\n",
       " 'Que le enseñes a mi boca (woah, woah)\\n',\n",
       " 'Tus lugares favoritos (favorito, favorito, baby)\\n',\n",
       " 'Déjame sobrepasar tus zonas de peligro (woah, woah)\\n',\n",
       " 'Hasta provocar tus gritos (woah, woah)\\n',\n",
       " 'Y que olvides tu apellido\\n',\n",
       " '\\n',\n",
       " '[Verso 3: Luis Fonsi]\\n',\n",
       " 'Despacito\\n',\n",
       " 'This is how we do it down in Puerto Rico\\n',\n",
       " 'I just wanna hear you screaming, \"¡Ay, Bendito!\"\\n',\n",
       " 'I can move forever cuando esté contigo\\n',\n",
       " '¡Bailalo!']"
      ]
     },
     "execution_count": 70,
     "metadata": {},
     "output_type": "execute_result"
    }
   ],
   "source": [
    "text= f.readlines()\n",
    "text"
   ]
  },
  {
   "cell_type": "code",
   "execution_count": 54,
   "metadata": {},
   "outputs": [
    {
     "data": {
      "text/plain": [
       "['[Intro: Justin Bieber]',\n",
       " \"Comin' over in my direction\",\n",
       " \"So thankful for that, it's such a blessin', yeah\",\n",
       " 'Turn every situation into heaven, yeah',\n",
       " 'Oh-oh, you are',\n",
       " 'My sunrise on the darkest day',\n",
       " \"Got me feelin' some kind of way\",\n",
       " 'Make me wanna savor every moment slowly, slowly',\n",
       " 'You fit me tailor-made, love how you put it on',\n",
       " 'Got the only key, know how to turn it on',\n",
       " 'The way you nibble on my ear, the only words I wanna hear',\n",
       " 'Baby, take it slow so we can last long',\n",
       " '',\n",
       " '[Verso 1: Luis Fonsi & Daddy Yankee]',\n",
       " '¡Oh!',\n",
       " 'Tú, tú eres el imán y yo soy el metal',\n",
       " 'Me voy acercando y voy armando el plan',\n",
       " 'Sólo con pensarlo se acelera el pulso (oh yeah)',\n",
       " 'Ya, ya me está gustando más de lo normal',\n",
       " 'Todos mis sentidos van pidiendo más',\n",
       " 'Esto hay que tomarlo sin ningún apuro',\n",
       " '',\n",
       " '[Coro: Justin Bieber & Luis Fonsi / Daddy Yankee]',\n",
       " 'Despacito',\n",
       " 'Quiero respirar tu cuello despacito',\n",
       " 'Deja que te diga cosas al oído',\n",
       " 'Para que te acuerdes si no estás conmigo',\n",
       " 'Despacito',\n",
       " 'Quiero desnudarte a besos despacito',\n",
       " 'Firmo en las paredes de tu laberinto',\n",
       " 'Y hacer de tu cuerpo todo un manuscrito',\n",
       " '(Sube, sube, sube',\n",
       " 'Sube, sube)',\n",
       " '',\n",
       " '',\n",
       " '[Puente: Luis Fonsi & Daddy Yankee]',\n",
       " 'Quiero ver bailar tu pelo, quiero ser tu ritmo (woah, woah)',\n",
       " 'Que le enseñes a mi boca (woah, woah)',\n",
       " 'Tus lugares favoritos (favorito, favorito, baby)',\n",
       " 'Déjame sobrepasar tus zonas de peligro (woah, woah)',\n",
       " 'Hasta provocar tus gritos (woah, woah)',\n",
       " 'Y que olvides tu apellido',\n",
       " '',\n",
       " '[Verso 2: Daddy Yankee]',\n",
       " 'Si te pido un beso, ven, dámelo, yo sé que estás pensándolo',\n",
       " 'Llevo tiempo intentándolo, mami, esto es dando y dándolo',\n",
       " 'Sabes que tu corazón conmigo te hace bang-bang',\n",
       " 'Sabes que esa beba está buscando de mi bang-bang',\n",
       " 'Ven, prueba de mi boca para ver cómo te sabe',\n",
       " 'Quiero, quiero, quiero ver cuánto amor a ti te cabe',\n",
       " 'Yo no tengo prisa, yo me quiero dar el viaje',\n",
       " 'Empecemos lento, después salvaje',\n",
       " '',\n",
       " '[Puente: Daddy Yankee & Justin Bieber / Daddy Yankee]',\n",
       " 'Pasito a pasito, suave suavecito',\n",
       " 'Nos vamos pegando, poquito a poquito',\n",
       " 'Cuando tú me besas con esa destreza',\n",
       " 'Veo que eres malicia con delicadeza',\n",
       " 'Pasito a pasito, suave suavecito',\n",
       " 'Nos vamos pegando, poquito a poquito',\n",
       " 'Y es que esa belleza es un rompecabezas',\n",
       " \"Pero pa' montarlo aquí tengo la pieza\",\n",
       " '¡Oye!',\n",
       " '',\n",
       " '',\n",
       " '[Coro: Justin Bieber & Luis Fonsi / Daddy Yankee]',\n",
       " 'Despacito',\n",
       " 'Quiero respirar tu cuello despacito',\n",
       " 'Deja que te diga cosas al oído',\n",
       " 'Para que te acuerdes si no estás conmigo',\n",
       " 'Despacito',\n",
       " 'Quiero desnudarte a besos despacito',\n",
       " 'Firmo en las paredes de tu laberinto',\n",
       " 'Y hacer de tu cuerpo todo un manuscrito',\n",
       " '(Sube, sube, sube',\n",
       " 'Sube, sube)',\n",
       " '',\n",
       " '[Puente: Luis Fonsi & Daddy Yankee]',\n",
       " 'Quiero ver bailar tu pelo, quiero ser tu ritmo (woah, woah)',\n",
       " 'Que le enseñes a mi boca (woah, woah)',\n",
       " 'Tus lugares favoritos (favorito, favorito, baby)',\n",
       " 'Déjame sobrepasar tus zonas de peligro (woah, woah)',\n",
       " 'Hasta provocar tus gritos (woah, woah)',\n",
       " 'Y que olvides tu apellido',\n",
       " '',\n",
       " '[Verso 3: Luis Fonsi]',\n",
       " 'Despacito',\n",
       " 'This is how we do it down in Puerto Rico',\n",
       " 'I just wanna hear you screaming, \"¡Ay, Bendito!\"',\n",
       " 'I can move forever cuando esté contigo',\n",
       " '¡Bailalo!']"
      ]
     },
     "execution_count": 54,
     "metadata": {},
     "output_type": "execute_result"
    }
   ],
   "source": [
    "[text.strip() for text in text]"
   ]
  },
  {
   "cell_type": "code",
   "execution_count": 75,
   "metadata": {},
   "outputs": [
    {
     "data": {
      "text/plain": [
       "''"
      ]
     },
     "execution_count": 75,
     "metadata": {},
     "output_type": "execute_result"
    }
   ],
   "source": [
    "f.readline()"
   ]
  },
  {
   "cell_type": "code",
   "execution_count": 71,
   "metadata": {},
   "outputs": [
    {
     "data": {
      "text/plain": [
       "['[Intro: Justin Bieber]\\n',\n",
       " \"Comin' over in my direction\\n\",\n",
       " \"So thankful for that, it's such a blessin', yeah\\n\",\n",
       " 'Turn every situation into heaven, yeah\\n',\n",
       " 'Oh-oh, you are\\n',\n",
       " 'My sunrise on the darkest day\\n',\n",
       " \"Got me feelin' some kind of way\\n\",\n",
       " 'Make me wanna savor every moment slowly, slowly\\n',\n",
       " 'You fit me tailor-made, love how you put it on\\n',\n",
       " 'Got the only key, know how to turn it on\\n',\n",
       " 'The way you nibble on my ear, the only words I wanna hear\\n',\n",
       " 'Baby, take it slow so we can last long\\n',\n",
       " '\\n',\n",
       " '[Verso 1: Luis Fonsi & Daddy Yankee]\\n',\n",
       " '¡Oh!\\n',\n",
       " 'Tú, tú eres el imán y yo soy el metal\\n',\n",
       " 'Me voy acercando y voy armando el plan\\n',\n",
       " 'Sólo con pensarlo se acelera el pulso (oh yeah)\\n',\n",
       " 'Ya, ya me está gustando más de lo normal\\n',\n",
       " 'Todos mis sentidos van pidiendo más\\n',\n",
       " 'Esto hay que tomarlo sin ningún apuro\\n',\n",
       " '\\n',\n",
       " '[Coro: Justin Bieber & Luis Fonsi / Daddy Yankee]\\n',\n",
       " 'Despacito\\n',\n",
       " 'Quiero respirar tu cuello despacito\\n',\n",
       " 'Deja que te diga cosas al oído\\n',\n",
       " 'Para que te acuerdes si no estás conmigo\\n',\n",
       " 'Despacito\\n',\n",
       " 'Quiero desnudarte a besos despacito\\n',\n",
       " 'Firmo en las paredes de tu laberinto\\n',\n",
       " 'Y hacer de tu cuerpo todo un manuscrito\\n',\n",
       " '(Sube, sube, sube\\n',\n",
       " 'Sube, sube)\\n',\n",
       " ' \\n',\n",
       " '\\n',\n",
       " '[Puente: Luis Fonsi & Daddy Yankee]\\n',\n",
       " 'Quiero ver bailar tu pelo, quiero ser tu ritmo (woah, woah)\\n',\n",
       " 'Que le enseñes a mi boca (woah, woah)\\n',\n",
       " 'Tus lugares favoritos (favorito, favorito, baby)\\n',\n",
       " 'Déjame sobrepasar tus zonas de peligro (woah, woah)\\n',\n",
       " 'Hasta provocar tus gritos (woah, woah)\\n',\n",
       " 'Y que olvides tu apellido\\n',\n",
       " '\\n',\n",
       " '[Verso 2: Daddy Yankee]\\n',\n",
       " 'Si te pido un beso, ven, dámelo, yo sé que estás pensándolo\\n',\n",
       " 'Llevo tiempo intentándolo, mami, esto es dando y dándolo\\n',\n",
       " 'Sabes que tu corazón conmigo te hace bang-bang\\n',\n",
       " 'Sabes que esa beba está buscando de mi bang-bang\\n',\n",
       " 'Ven, prueba de mi boca para ver cómo te sabe\\n',\n",
       " 'Quiero, quiero, quiero ver cuánto amor a ti te cabe\\n',\n",
       " 'Yo no tengo prisa, yo me quiero dar el viaje\\n',\n",
       " 'Empecemos lento, después salvaje\\n',\n",
       " '\\n',\n",
       " '[Puente: Daddy Yankee & Justin Bieber / Daddy Yankee]\\n',\n",
       " 'Pasito a pasito, suave suavecito\\n',\n",
       " 'Nos vamos pegando, poquito a poquito\\n',\n",
       " 'Cuando tú me besas con esa destreza\\n',\n",
       " 'Veo que eres malicia con delicadeza\\n',\n",
       " 'Pasito a pasito, suave suavecito\\n',\n",
       " 'Nos vamos pegando, poquito a poquito\\n',\n",
       " 'Y es que esa belleza es un rompecabezas\\n',\n",
       " \"Pero pa' montarlo aquí tengo la pieza\\n\",\n",
       " '¡Oye!\\n',\n",
       " ' \\n',\n",
       " '\\n',\n",
       " '[Coro: Justin Bieber & Luis Fonsi / Daddy Yankee]\\n',\n",
       " 'Despacito\\n',\n",
       " 'Quiero respirar tu cuello despacito\\n',\n",
       " 'Deja que te diga cosas al oído\\n',\n",
       " 'Para que te acuerdes si no estás conmigo\\n',\n",
       " 'Despacito\\n',\n",
       " 'Quiero desnudarte a besos despacito\\n',\n",
       " 'Firmo en las paredes de tu laberinto\\n',\n",
       " 'Y hacer de tu cuerpo todo un manuscrito\\n',\n",
       " '(Sube, sube, sube\\n',\n",
       " 'Sube, sube)\\n',\n",
       " '\\n',\n",
       " '[Puente: Luis Fonsi & Daddy Yankee]\\n',\n",
       " 'Quiero ver bailar tu pelo, quiero ser tu ritmo (woah, woah)\\n',\n",
       " 'Que le enseñes a mi boca (woah, woah)\\n',\n",
       " 'Tus lugares favoritos (favorito, favorito, baby)\\n',\n",
       " 'Déjame sobrepasar tus zonas de peligro (woah, woah)\\n',\n",
       " 'Hasta provocar tus gritos (woah, woah)\\n',\n",
       " 'Y que olvides tu apellido\\n',\n",
       " '\\n',\n",
       " '[Verso 3: Luis Fonsi]\\n',\n",
       " 'Despacito\\n',\n",
       " 'This is how we do it down in Puerto Rico\\n',\n",
       " 'I just wanna hear you screaming, \"¡Ay, Bendito!\"\\n',\n",
       " 'I can move forever cuando esté contigo\\n',\n",
       " '¡Bailalo!']"
      ]
     },
     "execution_count": 71,
     "metadata": {},
     "output_type": "execute_result"
    }
   ],
   "source": [
    "text"
   ]
  },
  {
   "cell_type": "code",
   "execution_count": 83,
   "metadata": {},
   "outputs": [
    {
     "data": {
      "text/plain": [
       "0"
      ]
     },
     "execution_count": 83,
     "metadata": {},
     "output_type": "execute_result"
    }
   ],
   "source": [
    "f.seek(0)"
   ]
  },
  {
   "cell_type": "code",
   "execution_count": 84,
   "metadata": {},
   "outputs": [
    {
     "data": {
      "text/plain": [
       "'[Intro: Justin Bieber]\\nComin\\' over in my direction\\nSo thankful for that, it\\'s such a blessin\\', yeah\\nTurn every situation into heaven, yeah\\nOh-oh, you are\\nMy sunrise on the darkest day\\nGot me feelin\\' some kind of way\\nMake me wanna savor every moment slowly, slowly\\nYou fit me tailor-made, love how you put it on\\nGot the only key, know how to turn it on\\nThe way you nibble on my ear, the only words I wanna hear\\nBaby, take it slow so we can last long\\n\\n[Verso 1: Luis Fonsi & Daddy Yankee]\\n¡Oh!\\nTú, tú eres el imán y yo soy el metal\\nMe voy acercando y voy armando el plan\\nSólo con pensarlo se acelera el pulso (oh yeah)\\nYa, ya me está gustando más de lo normal\\nTodos mis sentidos van pidiendo más\\nEsto hay que tomarlo sin ningún apuro\\n\\n[Coro: Justin Bieber & Luis Fonsi / Daddy Yankee]\\nDespacito\\nQuiero respirar tu cuello despacito\\nDeja que te diga cosas al oído\\nPara que te acuerdes si no estás conmigo\\nDespacito\\nQuiero desnudarte a besos despacito\\nFirmo en las paredes de tu laberinto\\nY hacer de tu cuerpo todo un manuscrito\\n(Sube, sube, sube\\nSube, sube)\\n \\n\\n[Puente: Luis Fonsi & Daddy Yankee]\\nQuiero ver bailar tu pelo, quiero ser tu ritmo (woah, woah)\\nQue le enseñes a mi boca (woah, woah)\\nTus lugares favoritos (favorito, favorito, baby)\\nDéjame sobrepasar tus zonas de peligro (woah, woah)\\nHasta provocar tus gritos (woah, woah)\\nY que olvides tu apellido\\n\\n[Verso 2: Daddy Yankee]\\nSi te pido un beso, ven, dámelo, yo sé que estás pensándolo\\nLlevo tiempo intentándolo, mami, esto es dando y dándolo\\nSabes que tu corazón conmigo te hace bang-bang\\nSabes que esa beba está buscando de mi bang-bang\\nVen, prueba de mi boca para ver cómo te sabe\\nQuiero, quiero, quiero ver cuánto amor a ti te cabe\\nYo no tengo prisa, yo me quiero dar el viaje\\nEmpecemos lento, después salvaje\\n\\n[Puente: Daddy Yankee & Justin Bieber / Daddy Yankee]\\nPasito a pasito, suave suavecito\\nNos vamos pegando, poquito a poquito\\nCuando tú me besas con esa destreza\\nVeo que eres malicia con delicadeza\\nPasito a pasito, suave suavecito\\nNos vamos pegando, poquito a poquito\\nY es que esa belleza es un rompecabezas\\nPero pa\\' montarlo aquí tengo la pieza\\n¡Oye!\\n \\n\\n[Coro: Justin Bieber & Luis Fonsi / Daddy Yankee]\\nDespacito\\nQuiero respirar tu cuello despacito\\nDeja que te diga cosas al oído\\nPara que te acuerdes si no estás conmigo\\nDespacito\\nQuiero desnudarte a besos despacito\\nFirmo en las paredes de tu laberinto\\nY hacer de tu cuerpo todo un manuscrito\\n(Sube, sube, sube\\nSube, sube)\\n\\n[Puente: Luis Fonsi & Daddy Yankee]\\nQuiero ver bailar tu pelo, quiero ser tu ritmo (woah, woah)\\nQue le enseñes a mi boca (woah, woah)\\nTus lugares favoritos (favorito, favorito, baby)\\nDéjame sobrepasar tus zonas de peligro (woah, woah)\\nHasta provocar tus gritos (woah, woah)\\nY que olvides tu apellido\\n\\n[Verso 3: Luis Fonsi]\\nDespacito\\nThis is how we do it down in Puerto Rico\\nI just wanna hear you screaming, \"¡Ay, Bendito!\"\\nI can move forever cuando esté contigo\\n¡Bailalo!'"
      ]
     },
     "execution_count": 84,
     "metadata": {},
     "output_type": "execute_result"
    }
   ],
   "source": [
    "f.read()"
   ]
  },
  {
   "cell_type": "code",
   "execution_count": null,
   "metadata": {
    "collapsed": true
   },
   "outputs": [],
   "source": []
  }
 ],
 "metadata": {
  "kernelspec": {
   "display_name": "Python 3",
   "language": "python",
   "name": "python3"
  },
  "language_info": {
   "codemirror_mode": {
    "name": "ipython",
    "version": 3
   },
   "file_extension": ".py",
   "mimetype": "text/x-python",
   "name": "python",
   "nbconvert_exporter": "python",
   "pygments_lexer": "ipython3",
   "version": "3.6.1"
  }
 },
 "nbformat": 4,
 "nbformat_minor": 2
}
